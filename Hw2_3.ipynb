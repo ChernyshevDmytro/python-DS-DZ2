{
  "nbformat": 4,
  "nbformat_minor": 0,
  "metadata": {
    "colab": {
      "provenance": [],
      "collapsed_sections": []
    },
    "kernelspec": {
      "name": "python3",
      "display_name": "Python 3"
    },
    "language_info": {
      "name": "python"
    }
  },
  "cells": [
    {
      "cell_type": "code",
      "execution_count": 308,
      "metadata": {
        "id": "gqcPGWG1Mb1z"
      },
      "outputs": [],
      "source": []
    },
    {
      "cell_type": "markdown",
      "source": [
        "Часть третья: Анализ датасет c Kaggle.com#\n",
        "В этой части домашней работы мы еще больше углубимся в библиотеку pandas и рассмотрим более продвинутые функции.\n",
        "\n",
        "Для этого упражнения мы используем данные по Топ-50 рейтингу самых продаваемых книг на Amazon за 11 лет (с 2009 по 2019). Датасет находится в открытом доступе на Kaggle.com. Загрузите csv файл по ссылке и переместите его в ту же директорию, где находится ваш рабочий ноутбук (для удобства). После этого переходите к заданию\n",
        "\n",
        "Для выполнения этой части домашнего задания, нужно будет не только написать код, но и ответить на сопутствующие вопросы. Там, где вы увидите выделенную жирным шрифтом надпись ответ:, нужно будет вставить вопрос в файл и ответ на него.\n",
        "\n",
        "Например:\n",
        "\n",
        "Какая библиотека используется для работы с датафреймами в python? Ответ: pandas\n",
        "\n",
        "Необходимо выполнить:\n",
        "\n",
        "Прочитайте csv файл (используйте функцию read_csv)\n",
        "Выведите первый пять строчек (используется функцию head)\n",
        "Выведите размеры датасета (используйте атрибут shape)\n",
        "Ответ: О скольки книгах хранит данные датасет?"
      ],
      "metadata": {
        "id": "NAhVq9tYQR50"
      }
    },
    {
      "cell_type": "code",
      "source": [
        "import os\n",
        "import pandas as pd\n",
        "link = \"https://www.kaggle.com/sootersaalu/amazon-top-50-bestselling-books-2009-2019\"\n",
        "df=pd.read_csv(\"bestsellers with categories.csv\", encoding='utf8', sep=',')\n",
        "df.head(5)"
      ],
      "metadata": {
        "colab": {
          "base_uri": "https://localhost:8080/",
          "height": 206
        },
        "id": "-bacOfXUQYu8",
        "outputId": "9a0b0b6c-e479-42ee-d28e-0e080e16adcd"
      },
      "execution_count": 309,
      "outputs": [
        {
          "output_type": "execute_result",
          "data": {
            "text/plain": [
              "                                                Name  \\\n",
              "0                      10-Day Green Smoothie Cleanse   \n",
              "1                                  11/22/63: A Novel   \n",
              "2            12 Rules for Life: An Antidote to Chaos   \n",
              "3                             1984 (Signet Classics)   \n",
              "4  5,000 Awesome Facts (About Everything!) (Natio...   \n",
              "\n",
              "                     Author  User Rating  Reviews  Price  Year        Genre  \n",
              "0                  JJ Smith          4.7    17350      8  2016  Non Fiction  \n",
              "1              Stephen King          4.6     2052     22  2011      Fiction  \n",
              "2        Jordan B. Peterson          4.7    18979     15  2018  Non Fiction  \n",
              "3             George Orwell          4.7    21424      6  2017      Fiction  \n",
              "4  National Geographic Kids          4.8     7665     12  2019  Non Fiction  "
            ],
            "text/html": [
              "\n",
              "  <div id=\"df-9af1bdd7-c276-4719-9503-0944f24a2c51\">\n",
              "    <div class=\"colab-df-container\">\n",
              "      <div>\n",
              "<style scoped>\n",
              "    .dataframe tbody tr th:only-of-type {\n",
              "        vertical-align: middle;\n",
              "    }\n",
              "\n",
              "    .dataframe tbody tr th {\n",
              "        vertical-align: top;\n",
              "    }\n",
              "\n",
              "    .dataframe thead th {\n",
              "        text-align: right;\n",
              "    }\n",
              "</style>\n",
              "<table border=\"1\" class=\"dataframe\">\n",
              "  <thead>\n",
              "    <tr style=\"text-align: right;\">\n",
              "      <th></th>\n",
              "      <th>Name</th>\n",
              "      <th>Author</th>\n",
              "      <th>User Rating</th>\n",
              "      <th>Reviews</th>\n",
              "      <th>Price</th>\n",
              "      <th>Year</th>\n",
              "      <th>Genre</th>\n",
              "    </tr>\n",
              "  </thead>\n",
              "  <tbody>\n",
              "    <tr>\n",
              "      <th>0</th>\n",
              "      <td>10-Day Green Smoothie Cleanse</td>\n",
              "      <td>JJ Smith</td>\n",
              "      <td>4.7</td>\n",
              "      <td>17350</td>\n",
              "      <td>8</td>\n",
              "      <td>2016</td>\n",
              "      <td>Non Fiction</td>\n",
              "    </tr>\n",
              "    <tr>\n",
              "      <th>1</th>\n",
              "      <td>11/22/63: A Novel</td>\n",
              "      <td>Stephen King</td>\n",
              "      <td>4.6</td>\n",
              "      <td>2052</td>\n",
              "      <td>22</td>\n",
              "      <td>2011</td>\n",
              "      <td>Fiction</td>\n",
              "    </tr>\n",
              "    <tr>\n",
              "      <th>2</th>\n",
              "      <td>12 Rules for Life: An Antidote to Chaos</td>\n",
              "      <td>Jordan B. Peterson</td>\n",
              "      <td>4.7</td>\n",
              "      <td>18979</td>\n",
              "      <td>15</td>\n",
              "      <td>2018</td>\n",
              "      <td>Non Fiction</td>\n",
              "    </tr>\n",
              "    <tr>\n",
              "      <th>3</th>\n",
              "      <td>1984 (Signet Classics)</td>\n",
              "      <td>George Orwell</td>\n",
              "      <td>4.7</td>\n",
              "      <td>21424</td>\n",
              "      <td>6</td>\n",
              "      <td>2017</td>\n",
              "      <td>Fiction</td>\n",
              "    </tr>\n",
              "    <tr>\n",
              "      <th>4</th>\n",
              "      <td>5,000 Awesome Facts (About Everything!) (Natio...</td>\n",
              "      <td>National Geographic Kids</td>\n",
              "      <td>4.8</td>\n",
              "      <td>7665</td>\n",
              "      <td>12</td>\n",
              "      <td>2019</td>\n",
              "      <td>Non Fiction</td>\n",
              "    </tr>\n",
              "  </tbody>\n",
              "</table>\n",
              "</div>\n",
              "      <button class=\"colab-df-convert\" onclick=\"convertToInteractive('df-9af1bdd7-c276-4719-9503-0944f24a2c51')\"\n",
              "              title=\"Convert this dataframe to an interactive table.\"\n",
              "              style=\"display:none;\">\n",
              "        \n",
              "  <svg xmlns=\"http://www.w3.org/2000/svg\" height=\"24px\"viewBox=\"0 0 24 24\"\n",
              "       width=\"24px\">\n",
              "    <path d=\"M0 0h24v24H0V0z\" fill=\"none\"/>\n",
              "    <path d=\"M18.56 5.44l.94 2.06.94-2.06 2.06-.94-2.06-.94-.94-2.06-.94 2.06-2.06.94zm-11 1L8.5 8.5l.94-2.06 2.06-.94-2.06-.94L8.5 2.5l-.94 2.06-2.06.94zm10 10l.94 2.06.94-2.06 2.06-.94-2.06-.94-.94-2.06-.94 2.06-2.06.94z\"/><path d=\"M17.41 7.96l-1.37-1.37c-.4-.4-.92-.59-1.43-.59-.52 0-1.04.2-1.43.59L10.3 9.45l-7.72 7.72c-.78.78-.78 2.05 0 2.83L4 21.41c.39.39.9.59 1.41.59.51 0 1.02-.2 1.41-.59l7.78-7.78 2.81-2.81c.8-.78.8-2.07 0-2.86zM5.41 20L4 18.59l7.72-7.72 1.47 1.35L5.41 20z\"/>\n",
              "  </svg>\n",
              "      </button>\n",
              "      \n",
              "  <style>\n",
              "    .colab-df-container {\n",
              "      display:flex;\n",
              "      flex-wrap:wrap;\n",
              "      gap: 12px;\n",
              "    }\n",
              "\n",
              "    .colab-df-convert {\n",
              "      background-color: #E8F0FE;\n",
              "      border: none;\n",
              "      border-radius: 50%;\n",
              "      cursor: pointer;\n",
              "      display: none;\n",
              "      fill: #1967D2;\n",
              "      height: 32px;\n",
              "      padding: 0 0 0 0;\n",
              "      width: 32px;\n",
              "    }\n",
              "\n",
              "    .colab-df-convert:hover {\n",
              "      background-color: #E2EBFA;\n",
              "      box-shadow: 0px 1px 2px rgba(60, 64, 67, 0.3), 0px 1px 3px 1px rgba(60, 64, 67, 0.15);\n",
              "      fill: #174EA6;\n",
              "    }\n",
              "\n",
              "    [theme=dark] .colab-df-convert {\n",
              "      background-color: #3B4455;\n",
              "      fill: #D2E3FC;\n",
              "    }\n",
              "\n",
              "    [theme=dark] .colab-df-convert:hover {\n",
              "      background-color: #434B5C;\n",
              "      box-shadow: 0px 1px 3px 1px rgba(0, 0, 0, 0.15);\n",
              "      filter: drop-shadow(0px 1px 2px rgba(0, 0, 0, 0.3));\n",
              "      fill: #FFFFFF;\n",
              "    }\n",
              "  </style>\n",
              "\n",
              "      <script>\n",
              "        const buttonEl =\n",
              "          document.querySelector('#df-9af1bdd7-c276-4719-9503-0944f24a2c51 button.colab-df-convert');\n",
              "        buttonEl.style.display =\n",
              "          google.colab.kernel.accessAllowed ? 'block' : 'none';\n",
              "\n",
              "        async function convertToInteractive(key) {\n",
              "          const element = document.querySelector('#df-9af1bdd7-c276-4719-9503-0944f24a2c51');\n",
              "          const dataTable =\n",
              "            await google.colab.kernel.invokeFunction('convertToInteractive',\n",
              "                                                     [key], {});\n",
              "          if (!dataTable) return;\n",
              "\n",
              "          const docLinkHtml = 'Like what you see? Visit the ' +\n",
              "            '<a target=\"_blank\" href=https://colab.research.google.com/notebooks/data_table.ipynb>data table notebook</a>'\n",
              "            + ' to learn more about interactive tables.';\n",
              "          element.innerHTML = '';\n",
              "          dataTable['output_type'] = 'display_data';\n",
              "          await google.colab.output.renderOutput(dataTable, element);\n",
              "          const docLink = document.createElement('div');\n",
              "          docLink.innerHTML = docLinkHtml;\n",
              "          element.appendChild(docLink);\n",
              "        }\n",
              "      </script>\n",
              "    </div>\n",
              "  </div>\n",
              "  "
            ]
          },
          "metadata": {},
          "execution_count": 309
        }
      ]
    },
    {
      "cell_type": "markdown",
      "source": [
        "Выведите размеры датасета (используйте атрибут shape)"
      ],
      "metadata": {
        "id": "R6Mupo1QSV3d"
      }
    },
    {
      "cell_type": "code",
      "source": [
        "df.shape"
      ],
      "metadata": {
        "colab": {
          "base_uri": "https://localhost:8080/"
        },
        "id": "wn2W_uqxSb18",
        "outputId": "b67b7a27-03cd-42ed-bb44-72588892517a"
      },
      "execution_count": 310,
      "outputs": [
        {
          "output_type": "execute_result",
          "data": {
            "text/plain": [
              "(550, 7)"
            ]
          },
          "metadata": {},
          "execution_count": 310
        }
      ]
    },
    {
      "cell_type": "markdown",
      "source": [
        "Ответ: О скольки книгах хранит данные датасет? **Ответ: 550**"
      ],
      "metadata": {
        "id": "9d6EVkbsSffs"
      }
    },
    {
      "cell_type": "markdown",
      "source": [
        "Для каждой из книг доступно 7 переменных(колонок). Давайте рассмотрим их детальней:\n",
        "\n",
        "Name - название книги\n",
        "\n",
        "Author - автор\n",
        "\n",
        "User Rating - рейтинг (по 5-бальной шкале)\n",
        "\n",
        "Reviews - количество отзывов\n",
        "\n",
        "Price - цена (в долларах по состоянию на 2020 год)\n",
        "\n",
        "Year - год, когда книга попала в рейтинг Топ-50\n",
        "\n",
        "Genre - жанр\n",
        "\n",
        "Для упрощения последующей работы, давайте немного подправим названия переменных. Как видите, здесь все названия начинаются с большой буквы, а одно - даже содержит пробел. Это крайне нежелательно и может быть достаточно неудобным. Давайте сменим регистр на маленький, а пробел заменим на нижнее подчеркивания (snake_style). А заодно и выучим полезный атрибут датафрейма: columns (можно просто присвоить список новых имен этому атрибуту)"
      ],
      "metadata": {
        "id": "qNqp9YBLStON"
      }
    },
    {
      "cell_type": "markdown",
      "source": [
        "df.columns = ['name', 'author', 'user_rating', 'reviews', 'price', 'year', 'genre']"
      ],
      "metadata": {
        "id": "q3qIEBNES1YE"
      }
    },
    {
      "cell_type": "code",
      "source": [
        "df.columns = ['name', 'author', 'user_rating', 'reviews', 'price', 'year', 'genre']\n",
        "df.head(3)"
      ],
      "metadata": {
        "colab": {
          "base_uri": "https://localhost:8080/",
          "height": 143
        },
        "id": "492V7qacTUT1",
        "outputId": "b221dff4-31d6-4a59-89ac-4b979a39b4e2"
      },
      "execution_count": 311,
      "outputs": [
        {
          "output_type": "execute_result",
          "data": {
            "text/plain": [
              "                                      name              author  user_rating  \\\n",
              "0            10-Day Green Smoothie Cleanse            JJ Smith          4.7   \n",
              "1                        11/22/63: A Novel        Stephen King          4.6   \n",
              "2  12 Rules for Life: An Antidote to Chaos  Jordan B. Peterson          4.7   \n",
              "\n",
              "   reviews  price  year        genre  \n",
              "0    17350      8  2016  Non Fiction  \n",
              "1     2052     22  2011      Fiction  \n",
              "2    18979     15  2018  Non Fiction  "
            ],
            "text/html": [
              "\n",
              "  <div id=\"df-1bc3d502-cc85-4989-ac53-bb8e71ffe833\">\n",
              "    <div class=\"colab-df-container\">\n",
              "      <div>\n",
              "<style scoped>\n",
              "    .dataframe tbody tr th:only-of-type {\n",
              "        vertical-align: middle;\n",
              "    }\n",
              "\n",
              "    .dataframe tbody tr th {\n",
              "        vertical-align: top;\n",
              "    }\n",
              "\n",
              "    .dataframe thead th {\n",
              "        text-align: right;\n",
              "    }\n",
              "</style>\n",
              "<table border=\"1\" class=\"dataframe\">\n",
              "  <thead>\n",
              "    <tr style=\"text-align: right;\">\n",
              "      <th></th>\n",
              "      <th>name</th>\n",
              "      <th>author</th>\n",
              "      <th>user_rating</th>\n",
              "      <th>reviews</th>\n",
              "      <th>price</th>\n",
              "      <th>year</th>\n",
              "      <th>genre</th>\n",
              "    </tr>\n",
              "  </thead>\n",
              "  <tbody>\n",
              "    <tr>\n",
              "      <th>0</th>\n",
              "      <td>10-Day Green Smoothie Cleanse</td>\n",
              "      <td>JJ Smith</td>\n",
              "      <td>4.7</td>\n",
              "      <td>17350</td>\n",
              "      <td>8</td>\n",
              "      <td>2016</td>\n",
              "      <td>Non Fiction</td>\n",
              "    </tr>\n",
              "    <tr>\n",
              "      <th>1</th>\n",
              "      <td>11/22/63: A Novel</td>\n",
              "      <td>Stephen King</td>\n",
              "      <td>4.6</td>\n",
              "      <td>2052</td>\n",
              "      <td>22</td>\n",
              "      <td>2011</td>\n",
              "      <td>Fiction</td>\n",
              "    </tr>\n",
              "    <tr>\n",
              "      <th>2</th>\n",
              "      <td>12 Rules for Life: An Antidote to Chaos</td>\n",
              "      <td>Jordan B. Peterson</td>\n",
              "      <td>4.7</td>\n",
              "      <td>18979</td>\n",
              "      <td>15</td>\n",
              "      <td>2018</td>\n",
              "      <td>Non Fiction</td>\n",
              "    </tr>\n",
              "  </tbody>\n",
              "</table>\n",
              "</div>\n",
              "      <button class=\"colab-df-convert\" onclick=\"convertToInteractive('df-1bc3d502-cc85-4989-ac53-bb8e71ffe833')\"\n",
              "              title=\"Convert this dataframe to an interactive table.\"\n",
              "              style=\"display:none;\">\n",
              "        \n",
              "  <svg xmlns=\"http://www.w3.org/2000/svg\" height=\"24px\"viewBox=\"0 0 24 24\"\n",
              "       width=\"24px\">\n",
              "    <path d=\"M0 0h24v24H0V0z\" fill=\"none\"/>\n",
              "    <path d=\"M18.56 5.44l.94 2.06.94-2.06 2.06-.94-2.06-.94-.94-2.06-.94 2.06-2.06.94zm-11 1L8.5 8.5l.94-2.06 2.06-.94-2.06-.94L8.5 2.5l-.94 2.06-2.06.94zm10 10l.94 2.06.94-2.06 2.06-.94-2.06-.94-.94-2.06-.94 2.06-2.06.94z\"/><path d=\"M17.41 7.96l-1.37-1.37c-.4-.4-.92-.59-1.43-.59-.52 0-1.04.2-1.43.59L10.3 9.45l-7.72 7.72c-.78.78-.78 2.05 0 2.83L4 21.41c.39.39.9.59 1.41.59.51 0 1.02-.2 1.41-.59l7.78-7.78 2.81-2.81c.8-.78.8-2.07 0-2.86zM5.41 20L4 18.59l7.72-7.72 1.47 1.35L5.41 20z\"/>\n",
              "  </svg>\n",
              "      </button>\n",
              "      \n",
              "  <style>\n",
              "    .colab-df-container {\n",
              "      display:flex;\n",
              "      flex-wrap:wrap;\n",
              "      gap: 12px;\n",
              "    }\n",
              "\n",
              "    .colab-df-convert {\n",
              "      background-color: #E8F0FE;\n",
              "      border: none;\n",
              "      border-radius: 50%;\n",
              "      cursor: pointer;\n",
              "      display: none;\n",
              "      fill: #1967D2;\n",
              "      height: 32px;\n",
              "      padding: 0 0 0 0;\n",
              "      width: 32px;\n",
              "    }\n",
              "\n",
              "    .colab-df-convert:hover {\n",
              "      background-color: #E2EBFA;\n",
              "      box-shadow: 0px 1px 2px rgba(60, 64, 67, 0.3), 0px 1px 3px 1px rgba(60, 64, 67, 0.15);\n",
              "      fill: #174EA6;\n",
              "    }\n",
              "\n",
              "    [theme=dark] .colab-df-convert {\n",
              "      background-color: #3B4455;\n",
              "      fill: #D2E3FC;\n",
              "    }\n",
              "\n",
              "    [theme=dark] .colab-df-convert:hover {\n",
              "      background-color: #434B5C;\n",
              "      box-shadow: 0px 1px 3px 1px rgba(0, 0, 0, 0.15);\n",
              "      filter: drop-shadow(0px 1px 2px rgba(0, 0, 0, 0.3));\n",
              "      fill: #FFFFFF;\n",
              "    }\n",
              "  </style>\n",
              "\n",
              "      <script>\n",
              "        const buttonEl =\n",
              "          document.querySelector('#df-1bc3d502-cc85-4989-ac53-bb8e71ffe833 button.colab-df-convert');\n",
              "        buttonEl.style.display =\n",
              "          google.colab.kernel.accessAllowed ? 'block' : 'none';\n",
              "\n",
              "        async function convertToInteractive(key) {\n",
              "          const element = document.querySelector('#df-1bc3d502-cc85-4989-ac53-bb8e71ffe833');\n",
              "          const dataTable =\n",
              "            await google.colab.kernel.invokeFunction('convertToInteractive',\n",
              "                                                     [key], {});\n",
              "          if (!dataTable) return;\n",
              "\n",
              "          const docLinkHtml = 'Like what you see? Visit the ' +\n",
              "            '<a target=\"_blank\" href=https://colab.research.google.com/notebooks/data_table.ipynb>data table notebook</a>'\n",
              "            + ' to learn more about interactive tables.';\n",
              "          element.innerHTML = '';\n",
              "          dataTable['output_type'] = 'display_data';\n",
              "          await google.colab.output.renderOutput(dataTable, element);\n",
              "          const docLink = document.createElement('div');\n",
              "          docLink.innerHTML = docLinkHtml;\n",
              "          element.appendChild(docLink);\n",
              "        }\n",
              "      </script>\n",
              "    </div>\n",
              "  </div>\n",
              "  "
            ]
          },
          "metadata": {},
          "execution_count": 311
        }
      ]
    },
    {
      "cell_type": "markdown",
      "source": [
        "**Первичное исследование данных**"
      ],
      "metadata": {
        "id": "IT1Sz6iUTeQ0"
      }
    },
    {
      "cell_type": "markdown",
      "source": [
        "Проверьте у всех ли строк хватает данных: выведите количество пропусков (na) в каждом из столбцов (используйте функции isna и sum)"
      ],
      "metadata": {
        "id": "yv8k8abkTs5F"
      }
    },
    {
      "cell_type": "code",
      "source": [
        "for i in df.columns:\n",
        "    print(f\"В колонке {i} доля пропуска составляет {df[i].isnull().sum()}\")"
      ],
      "metadata": {
        "colab": {
          "base_uri": "https://localhost:8080/"
        },
        "id": "39v5FupMTwGl",
        "outputId": "4807c2d0-2572-4667-ae55-bdf88ced8a90"
      },
      "execution_count": 312,
      "outputs": [
        {
          "output_type": "stream",
          "name": "stdout",
          "text": [
            "В колонке name доля пропуска составляет 0\n",
            "В колонке author доля пропуска составляет 0\n",
            "В колонке user_rating доля пропуска составляет 0\n",
            "В колонке reviews доля пропуска составляет 0\n",
            "В колонке price доля пропуска составляет 0\n",
            "В колонке year доля пропуска составляет 0\n",
            "В колонке genre доля пропуска составляет 0\n"
          ]
        }
      ]
    },
    {
      "cell_type": "markdown",
      "source": [
        "Ответ: Есть ли в каких либо переменных пропуски? **Ответ: нет**"
      ],
      "metadata": {
        "id": "rv-0bgFFV3hO"
      }
    },
    {
      "cell_type": "markdown",
      "source": [
        "Проверьте, какие есть уникальные значения в колонке genre (используйте функцию unique)\n",
        "Ответ: Какие есть уникальные жанры? **Ответ: Non Fiction и Fiction**"
      ],
      "metadata": {
        "id": "iKLofGQAV_Ad"
      }
    },
    {
      "cell_type": "code",
      "source": [
        "df['genre'].unique"
      ],
      "metadata": {
        "colab": {
          "base_uri": "https://localhost:8080/"
        },
        "id": "5NfziVajYBVe",
        "outputId": "a270fa66-ff22-4e15-86dc-b1226d751efe"
      },
      "execution_count": 313,
      "outputs": [
        {
          "output_type": "execute_result",
          "data": {
            "text/plain": [
              "<bound method Series.unique of 0      Non Fiction\n",
              "1          Fiction\n",
              "2      Non Fiction\n",
              "3          Fiction\n",
              "4      Non Fiction\n",
              "          ...     \n",
              "545        Fiction\n",
              "546    Non Fiction\n",
              "547    Non Fiction\n",
              "548    Non Fiction\n",
              "549    Non Fiction\n",
              "Name: genre, Length: 550, dtype: object>"
            ]
          },
          "metadata": {},
          "execution_count": 313
        }
      ]
    },
    {
      "cell_type": "markdown",
      "source": [
        "Определите, какая цена у нас максимальная, минимальная, средняя, медианная (используйте функции max, min, mean, median)\n",
        "Максимальная цена? **Ответ: 105**\n",
        "Минимальная цена? **Ответ: 0**\n",
        "Средняя цена? **Ответ: 13.1**\n",
        "Медианная цена? **Ответ: 11**"
      ],
      "metadata": {
        "id": "eyN2fCCfbHPP"
      }
    },
    {
      "cell_type": "code",
      "source": [
        "print(df['price'].max(),\n",
        "df['price'].min(),\n",
        "df['price'].mean(),\n",
        "df['price'].median())\n"
      ],
      "metadata": {
        "colab": {
          "base_uri": "https://localhost:8080/"
        },
        "id": "_MhGcOukbL3O",
        "outputId": "c66ebed3-e400-4d66-8496-df200257caac"
      },
      "execution_count": 314,
      "outputs": [
        {
          "output_type": "stream",
          "name": "stdout",
          "text": [
            "105 0 13.1 11.0\n"
          ]
        }
      ]
    },
    {
      "cell_type": "code",
      "source": [
        "print(f'1............. {df[\"user_rating\"].max()}')\n",
        "print(f'2............. { df[df[\"user_rating\"] == df[\"user_rating\"].max()].shape}')\n",
        "print(f'3............. { df[df[\"reviews\"] == df[\"reviews\"].max()]}')\n",
        "df_2015=df[df['year'] == 2015]\n",
        "\n",
        "print(f'4............. {df_2015[df_2015[\"price\"]==df_2015[\"price\"].max()]}')\n",
        "print(f'5............. {df[(df[\"genre\"] == \"Fiction\") & (df[\"year\"] == 2010)].shape}')\n",
        "all_data = df[(df[\"user_rating\"] == 4.9) & (df[\"year\"].isin([2010, 2011]))]\n",
        "print(f'6............. {all_data.shape}')\n",
        "\n"
      ],
      "metadata": {
        "colab": {
          "base_uri": "https://localhost:8080/"
        },
        "id": "0VlFjHtJdgAP",
        "outputId": "157fb0f5-7413-4eb5-c169-7c6c846b6930"
      },
      "execution_count": 315,
      "outputs": [
        {
          "output_type": "stream",
          "name": "stdout",
          "text": [
            "1............. 4.9\n",
            "2............. (52, 7)\n",
            "3.............                         name       author  user_rating  reviews  price  year  \\\n",
            "534  Where the Crawdads Sing  Delia Owens          4.8    87841     15  2019   \n",
            "\n",
            "       genre  \n",
            "534  Fiction  \n",
            "4.............                                                   name  \\\n",
            "277  Publication Manual of the American Psychologic...   \n",
            "\n",
            "                                 author  user_rating  reviews  price  year  \\\n",
            "277  American Psychological Association          4.5     8580     46  2015   \n",
            "\n",
            "           genre  \n",
            "277  Non Fiction  \n",
            "5............. (20, 7)\n",
            "6............. (1, 7)\n"
          ]
        }
      ]
    },
    {
      "cell_type": "markdown",
      "source": [
        "**Поиск и сортировка данных#**\n",
        "\n",
        "1. Какой рейтинг в датасете наивысший? Ответ: **4.9**\n",
        "2. Сколько книг имеют такой рейтинг? Ответ: **52**\n",
        "3. У какой книги больше всего отзывов? Ответ: **Where the Crawdads Sing**\n",
        "4. Из тех книг, что попали в Топ-50 в 2015 году, какая книга самая дорогая (можно использовать промежуточный датафрейм)? ***Ответ:American Psychological Association ***\n",
        "5. Сколько книг жанра Fiction попали в Топ-50 в 2010 году (используйте &)?**Ответ: 20**\n",
        "6. Сколько книг c рейтингом 4.9 попало в рейтинг в 2010 и 2011 годах (используйте |или функцию isin)? **Ответ: 1**\n",
        " \n",
        "И напоследок, давайте отсортируем по возрастанию цены все книги, которые попали в рейтинг в 2015 году и стоят дешевле 8 долларов (используйте функцию sort_values).\n",
        "Какая книга последняя в отсортированном списке? **Ответ: Old School Diary of a Wimpy Kid #10**\n"
      ],
      "metadata": {
        "id": "svr4aybWcsYn"
      }
    },
    {
      "cell_type": "code",
      "source": [
        "df[(df[\"price\"] < 8) & (df[\"year\"] == 2015)].sort_values(\"price\")"
      ],
      "metadata": {
        "colab": {
          "base_uri": "https://localhost:8080/",
          "height": 582
        },
        "id": "uboPm4zfcyJP",
        "outputId": "4cc72fee-d739-4268-d606-c6167dcf311e"
      },
      "execution_count": 316,
      "outputs": [
        {
          "output_type": "execute_result",
          "data": {
            "text/plain": [
              "                                                  name              author  \\\n",
              "507                              To Kill a Mockingbird          Harper Lee   \n",
              "210                      Laugh-Out-Loud Jokes for Kids         Rob Elliott   \n",
              "206                         Knock-Knock Jokes for Kids         Rob Elliott   \n",
              "111                                    First 100 Words        Roger Priddy   \n",
              "123                               Giraffes Can't Dance       Giles Andreae   \n",
              "54   Creative Haven Creative Cats Coloring Book (Ad...     Marjorie Sarnat   \n",
              "63                      Dear Zoo: A Lift-the-Flap Book        Rod Campbell   \n",
              "89   Dover Creative Haven Art Nouveau Animal Design...         Marty Noble   \n",
              "478                        The Very Hungry Caterpillar          Eric Carle   \n",
              "201  Killing Reagan: The Violent Assault That Chang...       Bill O'Reilly   \n",
              "28                        Baby Touch and Feel: Animals                  DK   \n",
              "224                                   Love You Forever       Robert Munsch   \n",
              "55   Creative Haven Owls Coloring Book (Adult Color...     Marjorie Sarnat   \n",
              "17      Adult Coloring Book: Stress Relieving Patterns  Blue Star Coloring   \n",
              "376  The Four Agreements: A Practical Guide to Pers...     Don Miguel Ruiz   \n",
              "16   Adult Coloring Book: Stress Relieving Animal D...  Blue Star Coloring   \n",
              "253              Old School (Diary of a Wimpy Kid #10)         Jeff Kinney   \n",
              "\n",
              "     user_rating  reviews  price  year        genre  \n",
              "507          4.8    26234      0  2015      Fiction  \n",
              "210          4.6     6990      4  2015  Non Fiction  \n",
              "206          4.5     3673      4  2015  Non Fiction  \n",
              "111          4.7    17323      4  2015  Non Fiction  \n",
              "123          4.8    14038      4  2015      Fiction  \n",
              "54           4.8     4022      4  2015  Non Fiction  \n",
              "63           4.8    10922      5  2015      Fiction  \n",
              "89           4.6     2134      5  2015  Non Fiction  \n",
              "478          4.9    19546      5  2015      Fiction  \n",
              "201          4.6     5235      5  2015  Non Fiction  \n",
              "28           4.6     5360      5  2015  Non Fiction  \n",
              "224          4.8    18613      5  2015      Fiction  \n",
              "55           4.8     3871      5  2015  Non Fiction  \n",
              "17           4.4     2951      6  2015  Non Fiction  \n",
              "376          4.7    23308      6  2015  Non Fiction  \n",
              "16           4.6     2925      6  2015  Non Fiction  \n",
              "253          4.8     6169      7  2015      Fiction  "
            ],
            "text/html": [
              "\n",
              "  <div id=\"df-af9b8a21-f972-4781-9f00-4b1f0e811ff4\">\n",
              "    <div class=\"colab-df-container\">\n",
              "      <div>\n",
              "<style scoped>\n",
              "    .dataframe tbody tr th:only-of-type {\n",
              "        vertical-align: middle;\n",
              "    }\n",
              "\n",
              "    .dataframe tbody tr th {\n",
              "        vertical-align: top;\n",
              "    }\n",
              "\n",
              "    .dataframe thead th {\n",
              "        text-align: right;\n",
              "    }\n",
              "</style>\n",
              "<table border=\"1\" class=\"dataframe\">\n",
              "  <thead>\n",
              "    <tr style=\"text-align: right;\">\n",
              "      <th></th>\n",
              "      <th>name</th>\n",
              "      <th>author</th>\n",
              "      <th>user_rating</th>\n",
              "      <th>reviews</th>\n",
              "      <th>price</th>\n",
              "      <th>year</th>\n",
              "      <th>genre</th>\n",
              "    </tr>\n",
              "  </thead>\n",
              "  <tbody>\n",
              "    <tr>\n",
              "      <th>507</th>\n",
              "      <td>To Kill a Mockingbird</td>\n",
              "      <td>Harper Lee</td>\n",
              "      <td>4.8</td>\n",
              "      <td>26234</td>\n",
              "      <td>0</td>\n",
              "      <td>2015</td>\n",
              "      <td>Fiction</td>\n",
              "    </tr>\n",
              "    <tr>\n",
              "      <th>210</th>\n",
              "      <td>Laugh-Out-Loud Jokes for Kids</td>\n",
              "      <td>Rob Elliott</td>\n",
              "      <td>4.6</td>\n",
              "      <td>6990</td>\n",
              "      <td>4</td>\n",
              "      <td>2015</td>\n",
              "      <td>Non Fiction</td>\n",
              "    </tr>\n",
              "    <tr>\n",
              "      <th>206</th>\n",
              "      <td>Knock-Knock Jokes for Kids</td>\n",
              "      <td>Rob Elliott</td>\n",
              "      <td>4.5</td>\n",
              "      <td>3673</td>\n",
              "      <td>4</td>\n",
              "      <td>2015</td>\n",
              "      <td>Non Fiction</td>\n",
              "    </tr>\n",
              "    <tr>\n",
              "      <th>111</th>\n",
              "      <td>First 100 Words</td>\n",
              "      <td>Roger Priddy</td>\n",
              "      <td>4.7</td>\n",
              "      <td>17323</td>\n",
              "      <td>4</td>\n",
              "      <td>2015</td>\n",
              "      <td>Non Fiction</td>\n",
              "    </tr>\n",
              "    <tr>\n",
              "      <th>123</th>\n",
              "      <td>Giraffes Can't Dance</td>\n",
              "      <td>Giles Andreae</td>\n",
              "      <td>4.8</td>\n",
              "      <td>14038</td>\n",
              "      <td>4</td>\n",
              "      <td>2015</td>\n",
              "      <td>Fiction</td>\n",
              "    </tr>\n",
              "    <tr>\n",
              "      <th>54</th>\n",
              "      <td>Creative Haven Creative Cats Coloring Book (Ad...</td>\n",
              "      <td>Marjorie Sarnat</td>\n",
              "      <td>4.8</td>\n",
              "      <td>4022</td>\n",
              "      <td>4</td>\n",
              "      <td>2015</td>\n",
              "      <td>Non Fiction</td>\n",
              "    </tr>\n",
              "    <tr>\n",
              "      <th>63</th>\n",
              "      <td>Dear Zoo: A Lift-the-Flap Book</td>\n",
              "      <td>Rod Campbell</td>\n",
              "      <td>4.8</td>\n",
              "      <td>10922</td>\n",
              "      <td>5</td>\n",
              "      <td>2015</td>\n",
              "      <td>Fiction</td>\n",
              "    </tr>\n",
              "    <tr>\n",
              "      <th>89</th>\n",
              "      <td>Dover Creative Haven Art Nouveau Animal Design...</td>\n",
              "      <td>Marty Noble</td>\n",
              "      <td>4.6</td>\n",
              "      <td>2134</td>\n",
              "      <td>5</td>\n",
              "      <td>2015</td>\n",
              "      <td>Non Fiction</td>\n",
              "    </tr>\n",
              "    <tr>\n",
              "      <th>478</th>\n",
              "      <td>The Very Hungry Caterpillar</td>\n",
              "      <td>Eric Carle</td>\n",
              "      <td>4.9</td>\n",
              "      <td>19546</td>\n",
              "      <td>5</td>\n",
              "      <td>2015</td>\n",
              "      <td>Fiction</td>\n",
              "    </tr>\n",
              "    <tr>\n",
              "      <th>201</th>\n",
              "      <td>Killing Reagan: The Violent Assault That Chang...</td>\n",
              "      <td>Bill O'Reilly</td>\n",
              "      <td>4.6</td>\n",
              "      <td>5235</td>\n",
              "      <td>5</td>\n",
              "      <td>2015</td>\n",
              "      <td>Non Fiction</td>\n",
              "    </tr>\n",
              "    <tr>\n",
              "      <th>28</th>\n",
              "      <td>Baby Touch and Feel: Animals</td>\n",
              "      <td>DK</td>\n",
              "      <td>4.6</td>\n",
              "      <td>5360</td>\n",
              "      <td>5</td>\n",
              "      <td>2015</td>\n",
              "      <td>Non Fiction</td>\n",
              "    </tr>\n",
              "    <tr>\n",
              "      <th>224</th>\n",
              "      <td>Love You Forever</td>\n",
              "      <td>Robert Munsch</td>\n",
              "      <td>4.8</td>\n",
              "      <td>18613</td>\n",
              "      <td>5</td>\n",
              "      <td>2015</td>\n",
              "      <td>Fiction</td>\n",
              "    </tr>\n",
              "    <tr>\n",
              "      <th>55</th>\n",
              "      <td>Creative Haven Owls Coloring Book (Adult Color...</td>\n",
              "      <td>Marjorie Sarnat</td>\n",
              "      <td>4.8</td>\n",
              "      <td>3871</td>\n",
              "      <td>5</td>\n",
              "      <td>2015</td>\n",
              "      <td>Non Fiction</td>\n",
              "    </tr>\n",
              "    <tr>\n",
              "      <th>17</th>\n",
              "      <td>Adult Coloring Book: Stress Relieving Patterns</td>\n",
              "      <td>Blue Star Coloring</td>\n",
              "      <td>4.4</td>\n",
              "      <td>2951</td>\n",
              "      <td>6</td>\n",
              "      <td>2015</td>\n",
              "      <td>Non Fiction</td>\n",
              "    </tr>\n",
              "    <tr>\n",
              "      <th>376</th>\n",
              "      <td>The Four Agreements: A Practical Guide to Pers...</td>\n",
              "      <td>Don Miguel Ruiz</td>\n",
              "      <td>4.7</td>\n",
              "      <td>23308</td>\n",
              "      <td>6</td>\n",
              "      <td>2015</td>\n",
              "      <td>Non Fiction</td>\n",
              "    </tr>\n",
              "    <tr>\n",
              "      <th>16</th>\n",
              "      <td>Adult Coloring Book: Stress Relieving Animal D...</td>\n",
              "      <td>Blue Star Coloring</td>\n",
              "      <td>4.6</td>\n",
              "      <td>2925</td>\n",
              "      <td>6</td>\n",
              "      <td>2015</td>\n",
              "      <td>Non Fiction</td>\n",
              "    </tr>\n",
              "    <tr>\n",
              "      <th>253</th>\n",
              "      <td>Old School (Diary of a Wimpy Kid #10)</td>\n",
              "      <td>Jeff Kinney</td>\n",
              "      <td>4.8</td>\n",
              "      <td>6169</td>\n",
              "      <td>7</td>\n",
              "      <td>2015</td>\n",
              "      <td>Fiction</td>\n",
              "    </tr>\n",
              "  </tbody>\n",
              "</table>\n",
              "</div>\n",
              "      <button class=\"colab-df-convert\" onclick=\"convertToInteractive('df-af9b8a21-f972-4781-9f00-4b1f0e811ff4')\"\n",
              "              title=\"Convert this dataframe to an interactive table.\"\n",
              "              style=\"display:none;\">\n",
              "        \n",
              "  <svg xmlns=\"http://www.w3.org/2000/svg\" height=\"24px\"viewBox=\"0 0 24 24\"\n",
              "       width=\"24px\">\n",
              "    <path d=\"M0 0h24v24H0V0z\" fill=\"none\"/>\n",
              "    <path d=\"M18.56 5.44l.94 2.06.94-2.06 2.06-.94-2.06-.94-.94-2.06-.94 2.06-2.06.94zm-11 1L8.5 8.5l.94-2.06 2.06-.94-2.06-.94L8.5 2.5l-.94 2.06-2.06.94zm10 10l.94 2.06.94-2.06 2.06-.94-2.06-.94-.94-2.06-.94 2.06-2.06.94z\"/><path d=\"M17.41 7.96l-1.37-1.37c-.4-.4-.92-.59-1.43-.59-.52 0-1.04.2-1.43.59L10.3 9.45l-7.72 7.72c-.78.78-.78 2.05 0 2.83L4 21.41c.39.39.9.59 1.41.59.51 0 1.02-.2 1.41-.59l7.78-7.78 2.81-2.81c.8-.78.8-2.07 0-2.86zM5.41 20L4 18.59l7.72-7.72 1.47 1.35L5.41 20z\"/>\n",
              "  </svg>\n",
              "      </button>\n",
              "      \n",
              "  <style>\n",
              "    .colab-df-container {\n",
              "      display:flex;\n",
              "      flex-wrap:wrap;\n",
              "      gap: 12px;\n",
              "    }\n",
              "\n",
              "    .colab-df-convert {\n",
              "      background-color: #E8F0FE;\n",
              "      border: none;\n",
              "      border-radius: 50%;\n",
              "      cursor: pointer;\n",
              "      display: none;\n",
              "      fill: #1967D2;\n",
              "      height: 32px;\n",
              "      padding: 0 0 0 0;\n",
              "      width: 32px;\n",
              "    }\n",
              "\n",
              "    .colab-df-convert:hover {\n",
              "      background-color: #E2EBFA;\n",
              "      box-shadow: 0px 1px 2px rgba(60, 64, 67, 0.3), 0px 1px 3px 1px rgba(60, 64, 67, 0.15);\n",
              "      fill: #174EA6;\n",
              "    }\n",
              "\n",
              "    [theme=dark] .colab-df-convert {\n",
              "      background-color: #3B4455;\n",
              "      fill: #D2E3FC;\n",
              "    }\n",
              "\n",
              "    [theme=dark] .colab-df-convert:hover {\n",
              "      background-color: #434B5C;\n",
              "      box-shadow: 0px 1px 3px 1px rgba(0, 0, 0, 0.15);\n",
              "      filter: drop-shadow(0px 1px 2px rgba(0, 0, 0, 0.3));\n",
              "      fill: #FFFFFF;\n",
              "    }\n",
              "  </style>\n",
              "\n",
              "      <script>\n",
              "        const buttonEl =\n",
              "          document.querySelector('#df-af9b8a21-f972-4781-9f00-4b1f0e811ff4 button.colab-df-convert');\n",
              "        buttonEl.style.display =\n",
              "          google.colab.kernel.accessAllowed ? 'block' : 'none';\n",
              "\n",
              "        async function convertToInteractive(key) {\n",
              "          const element = document.querySelector('#df-af9b8a21-f972-4781-9f00-4b1f0e811ff4');\n",
              "          const dataTable =\n",
              "            await google.colab.kernel.invokeFunction('convertToInteractive',\n",
              "                                                     [key], {});\n",
              "          if (!dataTable) return;\n",
              "\n",
              "          const docLinkHtml = 'Like what you see? Visit the ' +\n",
              "            '<a target=\"_blank\" href=https://colab.research.google.com/notebooks/data_table.ipynb>data table notebook</a>'\n",
              "            + ' to learn more about interactive tables.';\n",
              "          element.innerHTML = '';\n",
              "          dataTable['output_type'] = 'display_data';\n",
              "          await google.colab.output.renderOutput(dataTable, element);\n",
              "          const docLink = document.createElement('div');\n",
              "          docLink.innerHTML = docLinkHtml;\n",
              "          element.appendChild(docLink);\n",
              "        }\n",
              "      </script>\n",
              "    </div>\n",
              "  </div>\n",
              "  "
            ]
          },
          "metadata": {},
          "execution_count": 316
        }
      ]
    },
    {
      "cell_type": "markdown",
      "source": [
        "Агрегирование данных и соединения таблиц#\n",
        "\n",
        "Последняя секция этого домашнего задания включает чуть более продвинутые функции. Но не волнуйтесь, pandas делает все операции простыми и понятными.\n",
        "\n",
        "Для начала давайте посмотрим на максимальную и минимальную цены для каждого из жанров (используйте функции groupby и agg, для подсчета минимальных и максимальных значений используйте max и min). Не берите все столбцы, виберете только нужные вам\n",
        "\n",
        "1..Ответ: Максимальная цена для жанра Fiction: **Ответ: 82**\n",
        "\n",
        "2..Ответ: Минимальная цена для жанра Fiction: **Ответ: 0**\n",
        "\n",
        "3..Ответ: Максимальная цена для жанра Non Fiction: **Ответ: 105**\n",
        "\n",
        "4..Ответ: Минимальная цена для жанра Non Fiction: **Ответ: 0**\n",
        "\n",
        "Теперь создайте новый датафрейм, который будет вмещать в себя количество книг для каждого из авторов (используйте функции groupby и agg, для подсчета количества используйте count). Не берите все столбцы, виберете только нужные\n",
        "\n",
        "5.. Ответ: Какой размерности вышла таблица? **Ответ: (248, 1)**\n",
        "\n",
        "6..Ответ: У какого автора больше всего книг? **Ответ: Jeff Kinney**\n",
        "\n",
        "7..Ответ: Сколько книг у этого автора? **Ответ: 12**"
      ],
      "metadata": {
        "id": "AVMp7wrhIkHd"
      }
    },
    {
      "cell_type": "code",
      "source": [
        "x=df.groupby(\"genre\").agg({\"price\":[\"min\", \"max\"]})\n",
        "#x = x.agg({\"price\":[\"min\", \"max\"]})\n",
        "print(f\"1.2.3.4{x}\")\n"
      ],
      "metadata": {
        "colab": {
          "base_uri": "https://localhost:8080/"
        },
        "id": "0TOjXFdSIvOU",
        "outputId": "c0997b28-737f-4a83-b19f-b9d14694086a"
      },
      "execution_count": 317,
      "outputs": [
        {
          "output_type": "stream",
          "name": "stdout",
          "text": [
            "1.2.3.4            price     \n",
            "              min  max\n",
            "genre                 \n",
            "Fiction         0   82\n",
            "Non Fiction     0  105\n"
          ]
        }
      ]
    },
    {
      "cell_type": "code",
      "source": [
        "ndf=df.groupby(\"author\").agg({\"author\":[\"count\"]})\n",
        "print(f\"5.....{ndf.shape}\")\n",
        "ndf=pd.DataFrame(ndf)\n",
        "a=ndf.max()\n",
        "a=int(a[0])\n",
        "for i, j in ndf.items():\n",
        "  for k in range(0, ndf.shape[0]):    \n",
        "    if j[k] == a:\n",
        "      print(f\"6.....{ndf.iloc[k],j[k]}\")"
      ],
      "metadata": {
        "colab": {
          "base_uri": "https://localhost:8080/"
        },
        "id": "_3kGqN3dOrbf",
        "outputId": "f033bd7e-4a7d-4c3c-cded-dd64c98f900b"
      },
      "execution_count": 318,
      "outputs": [
        {
          "output_type": "stream",
          "name": "stdout",
          "text": [
            "5.....(248, 1)\n",
            "6.....(author  count    12\n",
            "Name: Jeff Kinney, dtype: int64, 12)\n"
          ]
        }
      ]
    },
    {
      "cell_type": "code",
      "source": [
        "print(f'7.....{df[df[\"author\"]==\"Jeff Kinney\"].agg({\"author\":[\"count\"]})}')\n",
        "\n",
        "\n"
      ],
      "metadata": {
        "colab": {
          "base_uri": "https://localhost:8080/"
        },
        "id": "929-xcqqdiCp",
        "outputId": "c7f00735-db41-4bdc-8fad-bfba1a8beab3"
      },
      "execution_count": 319,
      "outputs": [
        {
          "output_type": "stream",
          "name": "stdout",
          "text": [
            "7.....       author\n",
            "count      12\n"
          ]
        }
      ]
    },
    {
      "cell_type": "markdown",
      "source": [
        "Теперь создайте второй датафрейм, который будет вмещать средний рейтинг для каждого автора (используйте функции groupby и agg, для подсчета среднего значения используйте mean). Не берите все столбцы, виберете только нужные\n",
        "\n",
        "8.. Ответ: У какого автора средний рейтинг минимальный? **Ответ: Donna Tartt**\n",
        "\n",
        "9..Ответ: Какой у этого автора средний рейтинг? **Ответ: 3.9**"
      ],
      "metadata": {
        "id": "puw7EyINeyMJ"
      }
    },
    {
      "cell_type": "code",
      "source": [
        "y=df.groupby(\"author\").agg({\"user_rating\":[\"mean\"]})\n",
        "ndf_new=pd.DataFrame(y)\n",
        "\n",
        "for i, j in y.items():\n",
        "  for k in range(0, ndf_new.shape[0]):    \n",
        "    if j[k] == y.min()[0]:\n",
        "      print(f\"8.....{ndf_new.iloc[k],j[k]}\")"
      ],
      "metadata": {
        "colab": {
          "base_uri": "https://localhost:8080/"
        },
        "id": "bEymt0w5etrh",
        "outputId": "ac8a78f0-e6bf-4d64-f772-8da6af956c0f"
      },
      "execution_count": 320,
      "outputs": [
        {
          "output_type": "stream",
          "name": "stdout",
          "text": [
            "8.....(user_rating  mean    3.9\n",
            "Name: Donna Tartt, dtype: float64, 3.9)\n"
          ]
        }
      ]
    },
    {
      "cell_type": "markdown",
      "source": [
        "Соедините последние два датафрейма так, чтобы для каждого автора было видно количество книг и средний рейтинг (Используйте функцию concat с параметром axis=1). Сохраните результат в переменную Отсортируйте датафрейм по возрастающему количеству книг и возрастающему рейтингу (используйте функцию sort_values)\n",
        "\n",
        "10..Ответ: Какой автор первый в списке? **Ответ: Muriel Barbery**"
      ],
      "metadata": {
        "id": "r8gHs9jbmFz6"
      }
    },
    {
      "cell_type": "code",
      "source": [
        "ndf_=df.groupby(\"author\").agg({\"author\":[\"count\"]})\n",
        "ndf_.columns = ndf_.columns.droplevel()\n",
        "concat_df=pd.concat([ndf_, ndf_new], axis=1)\n",
        "concat_df.sort_values([\"count\", \"mean\"])"
      ],
      "metadata": {
        "colab": {
          "base_uri": "https://localhost:8080/",
          "height": 455
        },
        "id": "3iumEFQ4lMWR",
        "outputId": "724eed05-3226-4c11-8ff1-3d0b074c6e7b"
      },
      "execution_count": 370,
      "outputs": [
        {
          "output_type": "execute_result",
          "data": {
            "text/plain": [
              "                                    count      mean\n",
              "author                                             \n",
              "Muriel Barbery                          1  4.000000\n",
              "Chris Cleave                            1  4.100000\n",
              "Ian K. Smith M.D.                       1  4.100000\n",
              "Pierre Dukan                            1  4.100000\n",
              "Elizabeth Strout                        1  4.200000\n",
              "...                                   ...       ...\n",
              "American Psychological Association     10  4.500000\n",
              "Suzanne Collins                        11  4.663636\n",
              "Gary Chapman                           11  4.736364\n",
              "Rick Riordan                           11  4.772727\n",
              "Jeff Kinney                            12  4.800000\n",
              "\n",
              "[248 rows x 2 columns]"
            ],
            "text/html": [
              "\n",
              "  <div id=\"df-feaed269-93cd-425b-ae95-a61b92180bf1\">\n",
              "    <div class=\"colab-df-container\">\n",
              "      <div>\n",
              "<style scoped>\n",
              "    .dataframe tbody tr th:only-of-type {\n",
              "        vertical-align: middle;\n",
              "    }\n",
              "\n",
              "    .dataframe tbody tr th {\n",
              "        vertical-align: top;\n",
              "    }\n",
              "\n",
              "    .dataframe thead th {\n",
              "        text-align: right;\n",
              "    }\n",
              "</style>\n",
              "<table border=\"1\" class=\"dataframe\">\n",
              "  <thead>\n",
              "    <tr style=\"text-align: right;\">\n",
              "      <th></th>\n",
              "      <th>count</th>\n",
              "      <th>mean</th>\n",
              "    </tr>\n",
              "    <tr>\n",
              "      <th>author</th>\n",
              "      <th></th>\n",
              "      <th></th>\n",
              "    </tr>\n",
              "  </thead>\n",
              "  <tbody>\n",
              "    <tr>\n",
              "      <th>Muriel Barbery</th>\n",
              "      <td>1</td>\n",
              "      <td>4.000000</td>\n",
              "    </tr>\n",
              "    <tr>\n",
              "      <th>Chris Cleave</th>\n",
              "      <td>1</td>\n",
              "      <td>4.100000</td>\n",
              "    </tr>\n",
              "    <tr>\n",
              "      <th>Ian K. Smith M.D.</th>\n",
              "      <td>1</td>\n",
              "      <td>4.100000</td>\n",
              "    </tr>\n",
              "    <tr>\n",
              "      <th>Pierre Dukan</th>\n",
              "      <td>1</td>\n",
              "      <td>4.100000</td>\n",
              "    </tr>\n",
              "    <tr>\n",
              "      <th>Elizabeth Strout</th>\n",
              "      <td>1</td>\n",
              "      <td>4.200000</td>\n",
              "    </tr>\n",
              "    <tr>\n",
              "      <th>...</th>\n",
              "      <td>...</td>\n",
              "      <td>...</td>\n",
              "    </tr>\n",
              "    <tr>\n",
              "      <th>American Psychological Association</th>\n",
              "      <td>10</td>\n",
              "      <td>4.500000</td>\n",
              "    </tr>\n",
              "    <tr>\n",
              "      <th>Suzanne Collins</th>\n",
              "      <td>11</td>\n",
              "      <td>4.663636</td>\n",
              "    </tr>\n",
              "    <tr>\n",
              "      <th>Gary Chapman</th>\n",
              "      <td>11</td>\n",
              "      <td>4.736364</td>\n",
              "    </tr>\n",
              "    <tr>\n",
              "      <th>Rick Riordan</th>\n",
              "      <td>11</td>\n",
              "      <td>4.772727</td>\n",
              "    </tr>\n",
              "    <tr>\n",
              "      <th>Jeff Kinney</th>\n",
              "      <td>12</td>\n",
              "      <td>4.800000</td>\n",
              "    </tr>\n",
              "  </tbody>\n",
              "</table>\n",
              "<p>248 rows × 2 columns</p>\n",
              "</div>\n",
              "      <button class=\"colab-df-convert\" onclick=\"convertToInteractive('df-feaed269-93cd-425b-ae95-a61b92180bf1')\"\n",
              "              title=\"Convert this dataframe to an interactive table.\"\n",
              "              style=\"display:none;\">\n",
              "        \n",
              "  <svg xmlns=\"http://www.w3.org/2000/svg\" height=\"24px\"viewBox=\"0 0 24 24\"\n",
              "       width=\"24px\">\n",
              "    <path d=\"M0 0h24v24H0V0z\" fill=\"none\"/>\n",
              "    <path d=\"M18.56 5.44l.94 2.06.94-2.06 2.06-.94-2.06-.94-.94-2.06-.94 2.06-2.06.94zm-11 1L8.5 8.5l.94-2.06 2.06-.94-2.06-.94L8.5 2.5l-.94 2.06-2.06.94zm10 10l.94 2.06.94-2.06 2.06-.94-2.06-.94-.94-2.06-.94 2.06-2.06.94z\"/><path d=\"M17.41 7.96l-1.37-1.37c-.4-.4-.92-.59-1.43-.59-.52 0-1.04.2-1.43.59L10.3 9.45l-7.72 7.72c-.78.78-.78 2.05 0 2.83L4 21.41c.39.39.9.59 1.41.59.51 0 1.02-.2 1.41-.59l7.78-7.78 2.81-2.81c.8-.78.8-2.07 0-2.86zM5.41 20L4 18.59l7.72-7.72 1.47 1.35L5.41 20z\"/>\n",
              "  </svg>\n",
              "      </button>\n",
              "      \n",
              "  <style>\n",
              "    .colab-df-container {\n",
              "      display:flex;\n",
              "      flex-wrap:wrap;\n",
              "      gap: 12px;\n",
              "    }\n",
              "\n",
              "    .colab-df-convert {\n",
              "      background-color: #E8F0FE;\n",
              "      border: none;\n",
              "      border-radius: 50%;\n",
              "      cursor: pointer;\n",
              "      display: none;\n",
              "      fill: #1967D2;\n",
              "      height: 32px;\n",
              "      padding: 0 0 0 0;\n",
              "      width: 32px;\n",
              "    }\n",
              "\n",
              "    .colab-df-convert:hover {\n",
              "      background-color: #E2EBFA;\n",
              "      box-shadow: 0px 1px 2px rgba(60, 64, 67, 0.3), 0px 1px 3px 1px rgba(60, 64, 67, 0.15);\n",
              "      fill: #174EA6;\n",
              "    }\n",
              "\n",
              "    [theme=dark] .colab-df-convert {\n",
              "      background-color: #3B4455;\n",
              "      fill: #D2E3FC;\n",
              "    }\n",
              "\n",
              "    [theme=dark] .colab-df-convert:hover {\n",
              "      background-color: #434B5C;\n",
              "      box-shadow: 0px 1px 3px 1px rgba(0, 0, 0, 0.15);\n",
              "      filter: drop-shadow(0px 1px 2px rgba(0, 0, 0, 0.3));\n",
              "      fill: #FFFFFF;\n",
              "    }\n",
              "  </style>\n",
              "\n",
              "      <script>\n",
              "        const buttonEl =\n",
              "          document.querySelector('#df-feaed269-93cd-425b-ae95-a61b92180bf1 button.colab-df-convert');\n",
              "        buttonEl.style.display =\n",
              "          google.colab.kernel.accessAllowed ? 'block' : 'none';\n",
              "\n",
              "        async function convertToInteractive(key) {\n",
              "          const element = document.querySelector('#df-feaed269-93cd-425b-ae95-a61b92180bf1');\n",
              "          const dataTable =\n",
              "            await google.colab.kernel.invokeFunction('convertToInteractive',\n",
              "                                                     [key], {});\n",
              "          if (!dataTable) return;\n",
              "\n",
              "          const docLinkHtml = 'Like what you see? Visit the ' +\n",
              "            '<a target=\"_blank\" href=https://colab.research.google.com/notebooks/data_table.ipynb>data table notebook</a>'\n",
              "            + ' to learn more about interactive tables.';\n",
              "          element.innerHTML = '';\n",
              "          dataTable['output_type'] = 'display_data';\n",
              "          await google.colab.output.renderOutput(dataTable, element);\n",
              "          const docLink = document.createElement('div');\n",
              "          docLink.innerHTML = docLinkHtml;\n",
              "          element.appendChild(docLink);\n",
              "        }\n",
              "      </script>\n",
              "    </div>\n",
              "  </div>\n",
              "  "
            ]
          },
          "metadata": {},
          "execution_count": 370
        }
      ]
    }
  ]
}